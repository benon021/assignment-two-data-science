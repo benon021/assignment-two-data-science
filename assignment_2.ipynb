{
  "nbformat": 4,
  "nbformat_minor": 0,
  "metadata": {
    "colab": {
      "provenance": [],
      "authorship_tag": "ABX9TyPmaBFreCeetEZQZQSVGMQA",
      "include_colab_link": true
    },
    "kernelspec": {
      "name": "python3",
      "display_name": "Python 3"
    },
    "language_info": {
      "name": "python"
    }
  },
  "cells": [
    {
      "cell_type": "markdown",
      "metadata": {
        "id": "view-in-github",
        "colab_type": "text"
      },
      "source": [
        "<a href=\"https://colab.research.google.com/github/benon021/assignment-two-data-science/blob/main/assignment_2.ipynb\" target=\"_parent\"><img src=\"https://colab.research.google.com/assets/colab-badge.svg\" alt=\"Open In Colab\"/></a>"
      ]
    },
    {
      "cell_type": "code",
      "execution_count": 2,
      "metadata": {
        "colab": {
          "base_uri": "https://localhost:8080/"
        },
        "id": "rhTWv7usFpuj",
        "outputId": "332c6e7b-70c5-46c0-b92e-10efb7352250"
      },
      "outputs": [
        {
          "output_type": "stream",
          "name": "stdout",
          "text": [
            "Sample Dataset:\n",
            "\n",
            "   speed  weather_condition  road_condition  vehicle_age  accident_severity\n",
            "0     60                  0               0            2                  3\n",
            "1     80                  1               1            5                  6\n",
            "2    100                  2               2            8                  9\n",
            "3    120                  0               0            1                  2\n",
            "4     90                  1               1            6                  7\n",
            "\n",
            "Model Evaluation:\n",
            "Mean Squared Error (MSE): 0.00\n",
            "R-squared (R²): 1.00\n",
            "\n",
            "Model saved as 'road_accident_severity_model.pkl'\n",
            "\n",
            "Predicted Accident Severity: 6.11\n",
            "\n",
            "How This Model Helps Developing Countries:\n",
            "- Predicts high-risk conditions before accidents happen.\n",
            "- Helps governments plan safer roads and enforce speed limits.\n",
            "- Encourages data-driven policies to reduce road deaths.\n",
            "- Improves public awareness and traffic safety.\n",
            "\n"
          ]
        },
        {
          "output_type": "stream",
          "name": "stderr",
          "text": [
            "/usr/local/lib/python3.12/dist-packages/sklearn/utils/validation.py:2739: UserWarning: X does not have valid feature names, but LinearRegression was fitted with feature names\n",
            "  warnings.warn(\n"
          ]
        }
      ],
      "source": [
        "#bse-01-0081/2024\n",
        "#benonpapa\n",
        "import pandas as pd\n",
        "import numpy as np\n",
        "from sklearn.model_selection import train_test_split\n",
        "from sklearn.linear_model import LinearRegression\n",
        "from sklearn.metrics import mean_squared_error, r2_score\n",
        "import joblib\n",
        "\n",
        "data = {\n",
        "    'speed': [60, 80, 100, 120, 90, 70, 110, 85, 75, 95],\n",
        "    'weather_condition': [0, 1, 2, 0, 1, 0, 2, 1, 0, 2],\n",
        "    'road_condition': [0, 1, 2, 0, 1, 1, 2, 0, 0, 2],\n",
        "    'vehicle_age': [2, 5, 8, 1, 6, 3, 10, 4, 2, 7],\n",
        "    'accident_severity': [3, 6, 9, 2, 7, 4, 10, 5, 3, 8]\n",
        "}\n",
        "\n",
        "df = pd.DataFrame(data)\n",
        "print(\"Sample Dataset:\\n\")\n",
        "print(df.head())\n",
        "\n",
        "X = df[['speed', 'weather_condition', 'road_condition', 'vehicle_age']]\n",
        "y = df['accident_severity']\n",
        "\n",
        "X_train, X_test, y_train, y_test = train_test_split(X, y, test_size=0.2, random_state=42)\n",
        "model = LinearRegression()\n",
        "model.fit(X_train, y_train)\n",
        "\n",
        "y_pred = model.predict(X_test)\n",
        "mse = mean_squared_error(y_test, y_pred)\n",
        "r2 = r2_score(y_test, y_pred)\n",
        "\n",
        "print(\"\\nModel Evaluation:\")\n",
        "print(f\"Mean Squared Error (MSE): {mse:.2f}\")\n",
        "print(f\"R-squared (R²): {r2:.2f}\")\n",
        "\n",
        "joblib.dump(model, \"road_accident_severity_model.pkl\")\n",
        "print(\"\\nModel saved as 'road_accident_severity_model.pkl'\")\n",
        "\n",
        "example_data = np.array([[90, 1, 2, 5]])\n",
        "loaded_model = joblib.load(\"road_accident_severity_model.pkl\")\n",
        "predicted_severity = loaded_model.predict(example_data)\n",
        "print(\"\\nPredicted Accident Severity:\", round(predicted_severity[0], 2))\n",
        "\n",
        "print(\"\"\"\n",
        "How This Model Helps Developing Countries:\n",
        "- Predicts high-risk conditions before accidents happen.\n",
        "- Helps governments plan safer roads and enforce speed limits.\n",
        "- Encourages data-driven policies to reduce road deaths.\n",
        "- Improves public awareness and traffic safety.\n",
        "\"\"\")\n"
      ]
    }
  ]
}